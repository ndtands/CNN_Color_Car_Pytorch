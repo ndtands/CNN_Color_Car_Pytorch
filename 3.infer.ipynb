{
 "cells": [
  {
   "cell_type": "code",
   "execution_count": 1,
   "metadata": {},
   "outputs": [],
   "source": [
    "import torch\n",
    "from configs import TAGS\n",
    "from PIL import Image\n",
    "from torchvision import transforms\n",
    "import warnings\n",
    "import shutil\n",
    "warnings.filterwarnings(\"ignore\")"
   ]
  },
  {
   "cell_type": "code",
   "execution_count": 2,
   "metadata": {},
   "outputs": [],
   "source": [
    "PATH_MODEL = 'weights/ColorNet_model.pt'\n",
    "DEVICE = 'cuda'"
   ]
  },
  {
   "cell_type": "code",
   "execution_count": 3,
   "metadata": {},
   "outputs": [],
   "source": [
    "%%capture\n",
    "model = torch.load(PATH_MODEL)\n",
    "model.to(DEVICE)"
   ]
  },
  {
   "cell_type": "code",
   "execution_count": 6,
   "metadata": {},
   "outputs": [],
   "source": [
    "def infer(model, path: str, tags: list):\n",
    "    img = Image.open(path)\n",
    "    img = img.resize((224, 224))\n",
    "    convert_tensor = transforms.ToTensor()\n",
    "    img_tensor = convert_tensor(img).to(DEVICE)\n",
    "    batch_preds =model(img_tensor.unsqueeze(0))\n",
    "    idx = torch.argmax(torch.softmax(batch_preds, dim=1), dim=1).cpu().numpy().tolist()[0]\n",
    "    img.show()\n",
    "    return tags[idx]"
   ]
  },
  {
   "cell_type": "code",
   "execution_count": 7,
   "metadata": {},
   "outputs": [
    {
     "name": "stdout",
     "output_type": "stream",
     "text": [
      "black\n",
      "0.023971080780029297\n"
     ]
    }
   ],
   "source": [
    "import time\n",
    "start = time.time()\n",
    "path = 'predict/black/_0034_tech_edition_-_dark_grey1.jpg'\n",
    "print(infer(model, path, TAGS))\n",
    "print(time.time() - start)\n"
   ]
  },
  {
   "cell_type": "code",
   "execution_count": null,
   "metadata": {},
   "outputs": [],
   "source": []
  }
 ],
 "metadata": {
  "kernelspec": {
   "display_name": "Python 3.10.6 ('cv_scan')",
   "language": "python",
   "name": "python3"
  },
  "language_info": {
   "codemirror_mode": {
    "name": "ipython",
    "version": 3
   },
   "file_extension": ".py",
   "mimetype": "text/x-python",
   "name": "python",
   "nbconvert_exporter": "python",
   "pygments_lexer": "ipython3",
   "version": "3.10.6"
  },
  "orig_nbformat": 4,
  "vscode": {
   "interpreter": {
    "hash": "94296192351fc6953fcc31a5dfbf39f972021cb8023122eab85886b54a178871"
   }
  }
 },
 "nbformat": 4,
 "nbformat_minor": 2
}
