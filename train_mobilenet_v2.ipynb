{
 "cells": [
  {
   "cell_type": "code",
   "execution_count": 1,
   "metadata": {},
   "outputs": [],
   "source": [
    "import torch\n",
    "import torch.nn as nn\n",
    "# Set random seeds\n",
    "torch.manual_seed(42) \n",
    "torch.cuda.manual_seed(42)\n",
    "torch.cuda.manual_seed_all(42)\n",
    "\n",
    "from dataloader import Color_Dataloader\n",
    "from train import train\n",
    "\n",
    "import warnings\n",
    "warnings.filterwarnings(\"ignore\")"
   ]
  },
  {
   "cell_type": "code",
   "execution_count": 2,
   "metadata": {},
   "outputs": [],
   "source": [
    "DIR_DATASET = 'dataset'\n",
    "PATH_MODEL = 'weights/mbn_v2_model.pt'\n",
    "NUM_EPOCHS = 3\n",
    "NUM_CLASSES = 10\n",
    "PATIENT = 3\n",
    "LR = 0.001\n",
    "BATCH_SIZE = 16\n",
    "DEVICE = 'cuda'"
   ]
  },
  {
   "cell_type": "code",
   "execution_count": 3,
   "metadata": {},
   "outputs": [],
   "source": [
    "train_loader, test_loader = Color_Dataloader(\n",
    "    dir_dataset=DIR_DATASET,\n",
    "    batch_size=BATCH_SIZE\n",
    ")"
   ]
  },
  {
   "cell_type": "code",
   "execution_count": 4,
   "metadata": {},
   "outputs": [],
   "source": [
    "from torchvision import models\n",
    "model_ft = models.mobilenet_v2(pretrained=True)\n",
    "\n",
    "num_ftrs = model_ft.classifier[1].in_features\n",
    "model_ft.classifier[1] = nn.Linear(num_ftrs, NUM_CLASSES)\n",
    "model = model_ft.to(DEVICE)"
   ]
  },
  {
   "cell_type": "code",
   "execution_count": 5,
   "metadata": {},
   "outputs": [
    {
     "data": {
      "application/vnd.jupyter.widget-view+json": {
       "model_id": "1b3d1122582a4b47953983b0f75a985a",
       "version_major": 2,
       "version_minor": 0
      },
      "text/plain": [
       "  0%|          | 0/3 [00:00<?, ?it/s]"
      ]
     },
     "metadata": {},
     "output_type": "display_data"
    },
    {
     "name": "stdout",
     "output_type": "stream",
     "text": [
      "Model improve from  0.0000 to  0.8375\n",
      "Model improve from  0.8375 to  0.8779\n",
      "Model not improver 1/3\n"
     ]
    }
   ],
   "source": [
    "from sched import scheduler\n",
    "\n",
    "\n",
    "loss_fn = nn.CrossEntropyLoss()\n",
    "#optimizer = torch.optim.Adam(params=model.parameters(), lr=LR)\n",
    "optimizer = torch.optim.SGD(params=model.parameters(), lr=LR, momentum=0.9)\n",
    "scheduler = None\n",
    "model_0_results = train(model=model, \n",
    "                        train_dataloader=train_loader,\n",
    "                        test_dataloader=test_loader,\n",
    "                        optimizer=optimizer,\n",
    "                        loss_fn=loss_fn, \n",
    "                        epochs=NUM_EPOCHS,\n",
    "                        scheduler = scheduler,\n",
    "                        patient= PATIENT,\n",
    "                        model_path=PATH_MODEL,\n",
    "                        device=DEVICE)\n"
   ]
  }
 ],
 "metadata": {
  "kernelspec": {
   "display_name": "Python 3.10.6 ('cv_scan')",
   "language": "python",
   "name": "python3"
  },
  "language_info": {
   "codemirror_mode": {
    "name": "ipython",
    "version": 3
   },
   "file_extension": ".py",
   "mimetype": "text/x-python",
   "name": "python",
   "nbconvert_exporter": "python",
   "pygments_lexer": "ipython3",
   "version": "3.10.6"
  },
  "orig_nbformat": 4,
  "vscode": {
   "interpreter": {
    "hash": "94296192351fc6953fcc31a5dfbf39f972021cb8023122eab85886b54a178871"
   }
  }
 },
 "nbformat": 4,
 "nbformat_minor": 2
}
