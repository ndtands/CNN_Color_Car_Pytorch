{
 "cells": [
  {
   "cell_type": "code",
   "execution_count": 1,
   "metadata": {},
   "outputs": [],
   "source": [
    "import torch\n",
    "import torch.nn as nn\n",
    "from torch.optim import lr_scheduler\n",
    "# Set random seeds\n",
    "torch.manual_seed(42) \n",
    "torch.cuda.manual_seed(42)\n",
    "torch.cuda.manual_seed_all(42)\n",
    "\n",
    "\n",
    "from model import SimpleNet, ColorNet\n",
    "from dataloader import Color_Dataloader\n",
    "from train import train\n",
    "\n",
    "import warnings\n",
    "warnings.filterwarnings(\"ignore\")"
   ]
  },
  {
   "cell_type": "code",
   "execution_count": 2,
   "metadata": {},
   "outputs": [],
   "source": [
    "DIR_DATASET = 'dataset'\n",
    "PATH_MODEL = 'weights/ColorNet_model.pt'\n",
    "NUM_EPOCHS = 50\n",
    "NUM_CLASSES = 10\n",
    "PATIENT = 10\n",
    "LR = 0.001\n",
    "BATCH_SIZE = 10\n",
    "DEVICE = 'cuda'"
   ]
  },
  {
   "cell_type": "code",
   "execution_count": 3,
   "metadata": {},
   "outputs": [],
   "source": [
    "train_loader, test_loader = Color_Dataloader(\n",
    "    dir_dataset=DIR_DATASET,\n",
    "    batch_size=BATCH_SIZE\n",
    ")"
   ]
  },
  {
   "cell_type": "code",
   "execution_count": 4,
   "metadata": {},
   "outputs": [],
   "source": [
    "net = ColorNet(\n",
    "    num_classes = NUM_CLASSES\n",
    ")\n",
    "model = net.to(DEVICE)"
   ]
  },
  {
   "cell_type": "code",
   "execution_count": 5,
   "metadata": {},
   "outputs": [],
   "source": [
    "loss_fn = nn.CrossEntropyLoss()\n",
    "optimizer = torch.optim.SGD(params=model.parameters(), lr=LR, momentum=0.9)\n",
    "# scheduler = lr_scheduler.ExponentialLR(optimizer, gamma=0.7)\n",
    "# scheduler = lr_scheduler.OneCycleLR(optimizer, max_lr=LR,\n",
    "#                                     steps_per_epoch=len(train_loader), epochs=NUM_EPOCHS)\n",
    "# scheduler = lr_scheduler.OneCycleLR(optimizer, max_lr=LR,\n",
    "#                                     steps_per_epoch=len(train_loader),\n",
    "#                                     pct_start=0.2, anneal_strategy=\"linear\",epochs=NUM_EPOCHS)\n",
    "# scheduler = lr_scheduler.CosineAnnealingLR(optimizer, T_max=10, eta_min=0.0001)\n",
    "# scheduler = lr_scheduler.ReduceLROnPlateau(optimizer, mode='min',\n",
    "#                                            factor=0.95, patience=3,\n",
    "#                                            threshold=0.001, min_lr=0.0001)\n",
    "scheduler = None"
   ]
  },
  {
   "cell_type": "code",
   "execution_count": 6,
   "metadata": {},
   "outputs": [
    {
     "data": {
      "application/vnd.jupyter.widget-view+json": {
       "model_id": "d2c75cd63ec94a35a726ccb53a368d0b",
       "version_major": 2,
       "version_minor": 0
      },
      "text/plain": [
       "  0%|          | 0/50 [00:00<?, ?it/s]"
      ]
     },
     "metadata": {},
     "output_type": "display_data"
    },
    {
     "name": "stdout",
     "output_type": "stream",
     "text": [
      "Model improve from  0.0000 to  0.2124\n",
      "Model improve from  0.2124 to  0.6519\n",
      "Model improve from  0.6519 to  0.6709\n",
      "Model improve from  0.6709 to  0.6882\n",
      "Model improve from  0.6882 to  0.7539\n",
      "Model improve from  0.7539 to  0.7954\n",
      "Model improve from  0.7954 to  0.8275\n",
      "Model not improver 1/10\n",
      "Model not improver 2/10\n",
      "Model not improver 3/10\n",
      "Model not improver 4/10\n",
      "Model improve from  0.8275 to  0.8468\n",
      "Model not improver 1/10\n",
      "Model improve from  0.8468 to  0.8796\n",
      "Model not improver 1/10\n",
      "Model not improver 2/10\n",
      "Model not improver 3/10\n",
      "Model not improver 4/10\n",
      "Model not improver 5/10\n",
      "Model not improver 6/10\n",
      "Model not improver 7/10\n",
      "Model not improver 8/10\n",
      "Model not improver 9/10\n",
      "Model not improver 10/10\n",
      "Model Early stopping at 23 eps with F1_score best is  0.8796\n"
     ]
    }
   ],
   "source": [
    "model_0_results = train(model=model, \n",
    "                        train_dataloader=train_loader,\n",
    "                        test_dataloader=test_loader,\n",
    "                        optimizer=optimizer,\n",
    "                        scheduler=scheduler,\n",
    "                        loss_fn=loss_fn, \n",
    "                        epochs=NUM_EPOCHS,\n",
    "                        patient= PATIENT,\n",
    "                        model_path=PATH_MODEL,\n",
    "                        device=DEVICE)\n"
   ]
  },
  {
   "cell_type": "code",
   "execution_count": null,
   "metadata": {},
   "outputs": [],
   "source": []
  }
 ],
 "metadata": {
  "kernelspec": {
   "display_name": "Python 3.10.6 ('cv_scan')",
   "language": "python",
   "name": "python3"
  },
  "language_info": {
   "codemirror_mode": {
    "name": "ipython",
    "version": 3
   },
   "file_extension": ".py",
   "mimetype": "text/x-python",
   "name": "python",
   "nbconvert_exporter": "python",
   "pygments_lexer": "ipython3",
   "version": "3.10.6"
  },
  "orig_nbformat": 4,
  "vscode": {
   "interpreter": {
    "hash": "94296192351fc6953fcc31a5dfbf39f972021cb8023122eab85886b54a178871"
   }
  }
 },
 "nbformat": 4,
 "nbformat_minor": 2
}
